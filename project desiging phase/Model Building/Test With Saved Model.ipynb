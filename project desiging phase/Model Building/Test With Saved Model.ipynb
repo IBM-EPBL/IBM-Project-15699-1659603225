{
 "cells": [
  {
   "cell_type": "code",
   "execution_count": 8,
   "id": "abb1da9a",
   "metadata": {
    "scrolled": true
   },
   "outputs": [
    {
     "name": "stdout",
     "output_type": "stream",
     "text": [
      "1/1 [==============================] - 0s 157ms/step\n",
      "[[0. 0. 0. 1. 0. 0. 0. 0. 0. 0.]]\n",
      "1/1 [==============================] - 0s 47ms/step\n",
      "[[0. 0. 0. 0. 0. 0. 0. 1. 0. 0.]]\n",
      "1/1 [==============================] - 0s 40ms/step\n",
      "[[0. 0. 0. 0. 0. 0. 0. 0. 0. 1.]]\n",
      "1/1 [==============================] - 0s 40ms/step\n",
      "[[0. 0. 0. 1. 0. 0. 0. 0. 0. 0.]]\n"
     ]
    }
   ],
   "source": [
    "from tensorflow.keras.models import load_model\n",
    "model = load_model('mnistCNN.h5')\n",
    "from PIL import Image\n",
    "import numpy as np\n",
    "for index in range(4):\n",
    "  img=Image.open('Downloads/data/'+str(index)+'.png').convert(\"L\")\n",
    "  img=img.resize((28,28))\n",
    "  im2arr=np.array(img)\n",
    "  im2arr=im2arr.reshape(1,28,28,1)\n",
    "  #prediction\n",
    "  y_pred=model.predict(im2arr)\n",
    "  y_pred=np.round(y_pred)\n",
    "  print(y_pred) "
   ]
  },
  {
   "cell_type": "code",
   "execution_count": null,
   "id": "7a242a87",
   "metadata": {},
   "outputs": [],
   "source": []
  },
  {
   "cell_type": "code",
   "execution_count": null,
   "id": "4bcd8624",
   "metadata": {},
   "outputs": [],
   "source": []
  },
  {
   "cell_type": "code",
   "execution_count": null,
   "id": "bbe0b1a3",
   "metadata": {},
   "outputs": [],
   "source": []
  }
 ],
 "metadata": {
  "kernelspec": {
   "display_name": "Python 3 (ipykernel)",
   "language": "python",
   "name": "python3"
  },
  "language_info": {
   "codemirror_mode": {
    "name": "ipython",
    "version": 3
   },
   "file_extension": ".py",
   "mimetype": "text/x-python",
   "name": "python",
   "nbconvert_exporter": "python",
   "pygments_lexer": "ipython3",
   "version": "3.9.12"
  }
 },
 "nbformat": 4,
 "nbformat_minor": 5
}
